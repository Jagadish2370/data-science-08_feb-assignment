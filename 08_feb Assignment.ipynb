{
 "cells": [
  {
   "cell_type": "markdown",
   "metadata": {},
   "source": [
    "Q1. What is Abstraction in OOP? Explain with an example.\n",
    "\n",
    "Ans:\n",
    "Abstraction means the creating skelaton of data and functions, we can define functions later in any class as per requirement.\n",
    "For example, "
   ]
  },
  {
   "cell_type": "code",
   "execution_count": 1,
   "metadata": {},
   "outputs": [],
   "source": [
    "class Vehicle:\n",
    "    def start_engine(self):\n",
    "        pass\n",
    "\n",
    "    def stop_engine(self):\n",
    "        pass\n",
    "\n",
    "class Car(Vehicle):\n",
    "    def start_engine(self):\n",
    "        print(\"Car engine started\")\n",
    "\n",
    "    def stop_engine(self):\n",
    "        print(\"Car engine stopped\")\n"
   ]
  },
  {
   "cell_type": "markdown",
   "metadata": {},
   "source": [
    "Q2. Differentiate between Abstraction and Encapsulation. Explain with an example.\n",
    "Abstraction and encapsulation are related but distinct concepts in OOP:\n",
    "Abstraction focuses on presenting a simplified view of an object's essential characteristics while hiding unnecessary details. It's about defining a high-level interface.\n",
    "\n",
    "Encapsulation involves bundling data (attributes) and methods that operate on the data into a single unit (class). It restricts direct access to the internal details and enforces controlled interaction.\n",
    "\n",
    "For example,"
   ]
  },
  {
   "cell_type": "code",
   "execution_count": 2,
   "metadata": {},
   "outputs": [],
   "source": [
    "import abc\n",
    "class bank:\n",
    "    @abc.abstractmethod\n",
    "    def deposit(self, amount):\n",
    "        pass\n",
    "    @abc.abstractmethod\n",
    "    def withdraw(self, amount):\n",
    "        pass\n",
    "\n",
    "class BankAccount:\n",
    "    def __init__(self, account_number, balance):\n",
    "        self.__account_number = account_number  # Encapsulated attribute\n",
    "        self.__balance = balance                # Encapsulated attribute\n",
    "\n",
    "    def deposit(self, amount):\n",
    "        self.__balance += amount\n",
    "\n",
    "    def withdraw(self, amount):\n",
    "        if self.__balance >= amount:\n",
    "            self.__balance -= amount\n",
    "        else:\n",
    "            print(\"Insufficient balance\")\n",
    "\n",
    "# Abstraction: Users interact with methods like deposit() and withdraw()\n",
    "# Encapsulation: Data (account_number, balance) and methods are bundled in a class\n"
   ]
  },
  {
   "cell_type": "markdown",
   "metadata": {},
   "source": [
    "Q3. What is the abc module in Python? Why is it used?\n",
    "\n",
    "The abc (Abstract Base Classes) module in Python provides mechanisms to define abstract base classes. Abstract base classes are classes that are meant to be subclassed by other classes. They allow you to define a common interface that concrete subclasses should implement.\n",
    "\n",
    "The abc module is used to create abstract classes and enforce the implementation of specific methods in subclasses. It's particularly useful for maintaining a consistent structure across multiple subclasses and ensuring that essential methods are implemented correctly."
   ]
  },
  {
   "cell_type": "markdown",
   "metadata": {},
   "source": [
    "Q4. How can we achieve data abstraction?\n",
    "\n",
    "Data abstraction in OOP is achieved by designing classes with relevant attributes and methods while hiding the implementation details from the user. You can achieve this by defining public methods that provide a high-level interface to interact with the object, while keeping internal attributes and methods hidden from direct access."
   ]
  },
  {
   "cell_type": "markdown",
   "metadata": {},
   "source": [
    "Q5. Can we create an instance of an abstract class? Explain your answer.\n",
    "\n",
    "No, you cannot create an instance of an abstract class in Python. \n",
    "Abstract classes are meant to be subclassed and serve as templates for concrete subclasses. \n",
    "They often contain one or more abstract methods (methods without implementation) that must be overridden by concrete subclasses.\n",
    "\n",
    "Attempting to create an instance of an abstract class would lead to a TypeError. \n",
    "To use the functionality of an abstract class, you need to create a subclass that inherits from the abstract class and provides implementations for its abstract methods.\n",
    "They are just skleton structure."
   ]
  },
  {
   "cell_type": "markdown",
   "metadata": {},
   "source": []
  }
 ],
 "metadata": {
  "kernelspec": {
   "display_name": "Python 3",
   "language": "python",
   "name": "python3"
  },
  "language_info": {
   "codemirror_mode": {
    "name": "ipython",
    "version": 3
   },
   "file_extension": ".py",
   "mimetype": "text/x-python",
   "name": "python",
   "nbconvert_exporter": "python",
   "pygments_lexer": "ipython3",
   "version": "3.10.4"
  },
  "orig_nbformat": 4
 },
 "nbformat": 4,
 "nbformat_minor": 2
}
